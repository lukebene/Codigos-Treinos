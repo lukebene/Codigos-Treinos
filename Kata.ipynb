{
  "nbformat": 4,
  "nbformat_minor": 0,
  "metadata": {
    "colab": {
      "name": "Kata.ipynb",
      "provenance": [],
      "collapsed_sections": [],
      "authorship_tag": "ABX9TyModn7xZUoyqOZsTnWg9AE8",
      "include_colab_link": true
    },
    "kernelspec": {
      "name": "python3",
      "display_name": "Python 3"
    }
  },
  "cells": [
    {
      "cell_type": "markdown",
      "metadata": {
        "id": "view-in-github",
        "colab_type": "text"
      },
      "source": [
        "<a href=\"https://colab.research.google.com/github/lukebene/Codigos-Treinos/blob/master/Kata.ipynb\" target=\"_parent\"><img src=\"https://colab.research.google.com/assets/colab-badge.svg\" alt=\"Open In Colab\"/></a>"
      ]
    },
    {
      "cell_type": "code",
      "metadata": {
        "id": "70sl4PMtZYLQ",
        "colab_type": "code",
        "colab": {}
      },
      "source": [
        "def digit_root(n): \n",
        "    return (n - 1) % 9 + 1 if n else 0"
      ],
      "execution_count": null,
      "outputs": []
    },
    {
      "cell_type": "code",
      "metadata": {
        "id": "YBINF461hKfc",
        "colab_type": "code",
        "colab": {}
      },
      "source": [
        "def is_triangle(a, b, c):\n",
        "    if abs(b-c) < a < b+ c and abs(a-c) < b < a+ c and abs(a-b) < b < a+ b:\n",
        "      p = (a+b+c)/2 \n",
        "      S = (p*(p-a)*(p-b)*(p-c))**0.5\n",
        "      if S > 0:\n",
        "        return True\n",
        "      else:\n",
        "        return False\n",
        "    else:\n",
        "       return False\n",
        "#minha versao\n"
      ],
      "execution_count": null,
      "outputs": []
    },
    {
      "cell_type": "code",
      "metadata": {
        "id": "Mu0HNI9PhWle",
        "colab_type": "code",
        "colab": {}
      },
      "source": [
        "def is_triangle_2(a, b, c):\n",
        "  return (a<b+c) and (b<a+c) and (c<a+b)"
      ],
      "execution_count": null,
      "outputs": []
    },
    {
      "cell_type": "code",
      "metadata": {
        "id": "P1NfgOHAn8Tr",
        "colab_type": "code",
        "colab": {}
      },
      "source": [
        "def round_to_next5(n):\n",
        "    x , y = divmod(n,5)\n",
        "    return (x + (y>0))*5"
      ],
      "execution_count": null,
      "outputs": []
    },
    {
      "cell_type": "code",
      "metadata": {
        "id": "MBadaIxiAD-p",
        "colab_type": "code",
        "colab": {
          "base_uri": "https://localhost:8080/",
          "height": 34
        },
        "outputId": "751f5116-3e13-49c1-f9e9-aa1f95567335"
      },
      "source": [
        "m = 1\n",
        "n = 6\n",
        "integrers = [x+m for x in range(n - m + 1)]\n",
        "versao2 = list(range(m,n+1))\n",
        "versao2"
      ],
      "execution_count": null,
      "outputs": [
        {
          "output_type": "execute_result",
          "data": {
            "text/plain": [
              "[1, 2, 3, 4, 5, 6]"
            ]
          },
          "metadata": {
            "tags": []
          },
          "execution_count": 17
        }
      ]
    },
    {
      "cell_type": "code",
      "metadata": {
        "id": "DNq-vmco86xM",
        "colab_type": "code",
        "colab": {}
      },
      "source": [
        "def find_outlier(integers):\n",
        "  odds = [x for x in integers if x%2!=0]\n",
        "  evens= [x for x in integers if x%2==0]\n",
        "  return odds[0] if len(odds)<len(evens) else evens[0]"
      ],
      "execution_count": null,
      "outputs": []
    },
    {
      "cell_type": "code",
      "metadata": {
        "id": "T15bkQZIMagA",
        "colab_type": "code",
        "colab": {}
      },
      "source": [
        "def modified_sum(a, n):\n",
        "  mult = sum([x**n for x in a])\n",
        "  soma = sum(a)\n",
        "  return mult - soma\n"
      ],
      "execution_count": null,
      "outputs": []
    },
    {
      "cell_type": "code",
      "metadata": {
        "id": "k_20uP-CWMFq",
        "colab_type": "code",
        "colab": {
          "base_uri": "https://localhost:8080/",
          "height": 34
        },
        "outputId": "5e3b385c-e647-4a23-b44b-3727eb381f4d"
      },
      "source": [
        "def bouncingBall(h, bounce, window):\n",
        "    \n",
        "    return"
      ],
      "execution_count": null,
      "outputs": [
        {
          "output_type": "execute_result",
          "data": {
            "text/plain": [
              "1.98"
            ]
          },
          "metadata": {
            "tags": []
          },
          "execution_count": 29
        }
      ]
    },
    {
      "cell_type": "code",
      "metadata": {
        "id": "VEQtUOVgYPDJ",
        "colab_type": "code",
        "colab": {
          "base_uri": "https://localhost:8080/",
          "height": 34
        },
        "outputId": "e5286031-1563-4a84-c3e8-0d1bac436c47"
      },
      "source": [
        "def bouncingBall(h, bounce, window):\n",
        "    if not 0 < bounce < 1: return -1\n",
        "    count = 0\n",
        "    while h > window:\n",
        "        count += 1\n",
        "        h *= bounce\n",
        "        if h > window: count += 1\n",
        "    return count or -1"
      ],
      "execution_count": null,
      "outputs": [
        {
          "output_type": "stream",
          "text": [
            "3\n"
          ],
          "name": "stdout"
        }
      ]
    },
    {
      "cell_type": "code",
      "metadata": {
        "id": "2-xYrnh8yhLq",
        "colab_type": "code",
        "colab": {}
      },
      "source": [
        "def iq_test(numbers):\n",
        "    lista = numbers.split()\n",
        "    odds = [x for x in lista if x%2!=0]\n",
        "    evens= [x for x in lista if x%2==0]\n",
        "    alvo = odds[0] if len(odds)<len(evens) else evens[0]\n",
        "    return lista.index(alvo+1)"
      ],
      "execution_count": 11,
      "outputs": []
    },
    {
      "cell_type": "code",
      "metadata": {
        "id": "ar3njactzx9J",
        "colab_type": "code",
        "colab": {
          "base_uri": "https://localhost:8080/",
          "height": 34
        },
        "outputId": "f283e5de-ba37-4c57-f0e8-a16745900604"
      },
      "source": [
        "def iq_test(numbers):\n",
        "    lista = numbers.split()\n",
        "    odds = []\n",
        "    even = []\n",
        "    for i in lista:\n",
        "      cu = int(i)\n",
        "      if cu%2 != 0:\n",
        "        odds.append(i)\n",
        "      else:\n",
        "        even.append(i)\n",
        "    alvo = odds[0] if len(odds)<len(even) else even[0]\n",
        "    alvo = lista.index(alvo)\n",
        "    return alvo+1\n",
        "    \n",
        "\n",
        "iq_test(\"88 96 66 51 14 88 2 92 18 72 18 88 20 30 4 82 90 100 24 46\")\n"
      ],
      "execution_count": 46,
      "outputs": [
        {
          "output_type": "execute_result",
          "data": {
            "text/plain": [
              "4"
            ]
          },
          "metadata": {
            "tags": []
          },
          "execution_count": 46
        }
      ]
    }
  ]
}