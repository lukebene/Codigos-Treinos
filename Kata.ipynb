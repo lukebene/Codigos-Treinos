{
  "nbformat": 4,
  "nbformat_minor": 0,
  "metadata": {
    "colab": {
      "name": "Kata.ipynb",
      "provenance": [],
      "authorship_tag": "ABX9TyPi8/G0lb3GbkvmhcBXc7/F",
      "include_colab_link": true
    },
    "kernelspec": {
      "name": "python3",
      "display_name": "Python 3"
    }
  },
  "cells": [
    {
      "cell_type": "markdown",
      "metadata": {
        "id": "view-in-github",
        "colab_type": "text"
      },
      "source": [
        "<a href=\"https://colab.research.google.com/github/lukebene/Codigos-Treinos/blob/master/Kata.ipynb\" target=\"_parent\"><img src=\"https://colab.research.google.com/assets/colab-badge.svg\" alt=\"Open In Colab\"/></a>"
      ]
    },
    {
      "cell_type": "code",
      "metadata": {
        "id": "70sl4PMtZYLQ",
        "colab_type": "code",
        "colab": {}
      },
      "source": [
        "def digit_root(n): \n",
        "    return (n - 1) % 9 + 1 if n else 0"
      ],
      "execution_count": 2,
      "outputs": []
    },
    {
      "cell_type": "code",
      "metadata": {
        "id": "YBINF461hKfc",
        "colab_type": "code",
        "colab": {}
      },
      "source": [
        "def is_triangle(a, b, c):\n",
        "    if abs(b-c) < a < b+ c and abs(a-c) < b < a+ c and abs(a-b) < b < a+ b:\n",
        "      p = (a+b+c)/2 \n",
        "      S = (p*(p-a)*(p-b)*(p-c))**0.5\n",
        "      if S > 0:\n",
        "        return True\n",
        "      else:\n",
        "        return False\n",
        "    else:\n",
        "       return False\n",
        "#minha versao\n"
      ],
      "execution_count": 33,
      "outputs": []
    },
    {
      "cell_type": "code",
      "metadata": {
        "id": "Mu0HNI9PhWle",
        "colab_type": "code",
        "colab": {}
      },
      "source": [
        "def is_triangle_2(a, b, c):\n",
        "  return (a<b+c) and (b<a+c) and (c<a+b)"
      ],
      "execution_count": 51,
      "outputs": []
    },
    {
      "cell_type": "code",
      "metadata": {
        "id": "P1NfgOHAn8Tr",
        "colab_type": "code",
        "colab": {}
      },
      "source": [
        ""
      ],
      "execution_count": null,
      "outputs": []
    }
  ]
}