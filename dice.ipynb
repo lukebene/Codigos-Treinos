{
  "nbformat": 4,
  "nbformat_minor": 0,
  "metadata": {
    "colab": {
      "name": "dice.ipynb",
      "provenance": [],
      "collapsed_sections": [],
      "include_colab_link": true
    },
    "kernelspec": {
      "name": "python3",
      "display_name": "Python 3"
    }
  },
  "cells": [
    {
      "cell_type": "markdown",
      "metadata": {
        "id": "view-in-github",
        "colab_type": "text"
      },
      "source": [
        "<a href=\"https://colab.research.google.com/github/lukebene/Codigos-Treinos/blob/master/dice.ipynb\" target=\"_parent\"><img src=\"https://colab.research.google.com/assets/colab-badge.svg\" alt=\"Open In Colab\"/></a>"
      ]
    },
    {
      "cell_type": "code",
      "metadata": {
        "id": "mxMnZO0Em1bc",
        "colab_type": "code",
        "colab": {}
      },
      "source": [
        "import random as rnd\n",
        "import numpy as np\n",
        "import statistics\n"
      ],
      "execution_count": 0,
      "outputs": []
    },
    {
      "cell_type": "code",
      "metadata": {
        "id": "klDybUIbnevK",
        "colab_type": "code",
        "colab": {}
      },
      "source": [
        "def dice(faces):\n",
        " return rnd.randrange(1,faces+1)\n",
        "\n",
        "def roll(count,faces):\n",
        " rolls = [dice(faces) for _ in range(count)]\n",
        " return rolls"
      ],
      "execution_count": 0,
      "outputs": []
    },
    {
      "cell_type": "code",
      "metadata": {
        "id": "jxS8uxBcXI67",
        "colab_type": "code",
        "colab": {}
      },
      "source": [
        "def personagem():\n",
        "\n",
        "  Str = roll(4,6)\n",
        "  Str.remove(min(Str))\n",
        "  Str = sum(Str)\n",
        "  if Str <= 8:\n",
        "    Str = roll(4,6)\n",
        "    Str.remove(min(Str))\n",
        "    Str = sum(Str)\n",
        "\n",
        "  Dex = roll(4,6)\n",
        "  Dex.remove(min(Dex))\n",
        "  Dex = sum(Dex)\n",
        "  if Dex <= 8:\n",
        "    Dex = roll(4,6)\n",
        "    Dex.remove(min(Dex))\n",
        "    Dex = sum(Dex)\n",
        "\n",
        "  Con = roll(4,6)\n",
        "  Con.remove(min(Con))\n",
        "  Con = sum(Con)\n",
        "  if Con <= 8:\n",
        "    Con = roll(4,6)\n",
        "    Con.remove(min(Con))\n",
        "    Con = sum(Con)\n",
        "\n",
        "  Int = roll(4,6)\n",
        "  Int.remove(min(Int))\n",
        "  Int = sum(Int)\n",
        "  if Int <= 8:\n",
        "    Int = roll(4,6)\n",
        "    Int.remove(min(Int))\n",
        "    Int = sum(Int)\n",
        "\n",
        "  Wis = roll(4,6)\n",
        "  Wis.remove(min(Wis))\n",
        "  Wis = sum(Wis)\n",
        "  if Wis <= 8:\n",
        "    Wis = roll(4,6)\n",
        "    Wis.remove(min(Wis))\n",
        "    Wis = sum(Wis)\n",
        "\n",
        "  Cha = roll(4,6)\n",
        "  Cha.remove(min(Cha))\n",
        "  Cha = sum(Cha)\n",
        "  if Cha <= 8:\n",
        "    Cha = roll(4,6)\n",
        "    Cha.remove(min(Cha))\n",
        "    Cha = sum(Cha)\n",
        "\n",
        "  Stats = Str+Dex+Con+Int+Wis+Cha\n",
        "  if Stats<= 73:\n",
        "    return personagem()\n",
        "  else:\n",
        "    return [Str,Dex,Con,Int,Wis,Cha]\n"
      ],
      "execution_count": 0,
      "outputs": []
    },
    {
      "cell_type": "code",
      "metadata": {
        "id": "uSF_z_OjX0xn",
        "colab_type": "code",
        "outputId": "c43661f2-9a49-4174-e025-ff4e347726ba",
        "colab": {
          "base_uri": "https://localhost:8080/",
          "height": 34
        }
      },
      "source": [
        "teste = personagem()\n",
        "type(teste)"
      ],
      "execution_count": 0,
      "outputs": [
        {
          "output_type": "execute_result",
          "data": {
            "text/plain": [
              "list"
            ]
          },
          "metadata": {
            "tags": []
          },
          "execution_count": 4
        }
      ]
    },
    {
      "cell_type": "code",
      "metadata": {
        "id": "H0jscyPOeRLG",
        "colab_type": "code",
        "outputId": "323985b2-8499-4e9c-daf3-fb429361422d",
        "colab": {
          "base_uri": "https://localhost:8080/",
          "height": 34
        }
      },
      "source": [
        "classes = ['Barbaro','Bardo','Bruxo','Clerigo','Druida','Feiticeiro','Guardiao','Guerreiro','Ladino','Mago','Monge','Paladino']\n",
        "race = ['Hill Dwarf','Mountain Dwarf','High Elf','Wood Elf','Dark Elf','Lightfoot Halfling','Stout Halfling','Human','DragonBorn','Forest Gnome',\n",
        "        'Rock Gnome','Half-Elf','Half-Orc','Tiefling']\n",
        "background = ['Acolito','Charlatao','Criminoso','Artista','Heroi do Povo','Artesao de Guilda','Heremita','Nobre','Forasteiro','Sabio','Marinheiro',\n",
        "              'Soldado','Orfao']\n",
        "b = rnd.choice(background)\n",
        "c = rnd.choice(classes)\n",
        "r = rnd.choice(race)\n",
        "p = personagem()\n",
        "print(r,b,c,p)"
      ],
      "execution_count": 0,
      "outputs": [
        {
          "output_type": "stream",
          "text": [
            "Human Heremita Barbaro [16, 14, 13, 10, 18, 15]\n"
          ],
          "name": "stdout"
        }
      ]
    },
    {
      "cell_type": "code",
      "metadata": {
        "id": "4gZRcEHTnFbo",
        "colab_type": "code",
        "colab": {}
      },
      "source": [
        "def personagem_completo():\n",
        "  classes = ['Barbaro','Bardo','Bruxo','Clerigo','Druida','Feiticeiro','Guardiao','Guerreiro','Ladino','Mago','Monge','Paladino']\n",
        "  race = ['Hill Dwarf','Mountain Dwarf','High Elf','Wood Elf','Dark Elf','Lightfoot Halfling','Stout Halfling','Human','Draconato','Forest Gnome',\n",
        "        'Rock Gnome','Half-Elf','Half-Orc','Tiefling']\n",
        "  background = ['Acolito','Charlatao','Criminoso','Artista','Heroi do Povo','Artesao de Guilda','Heremita','Nobre','Forasteiro','Sabio','Marinheiro',\n",
        "              'Soldado','Orfao']\n",
        "  b = rnd.choice(background)\n",
        "  c = rnd.choice(classes)\n",
        "  r = rnd.choice(race)\n",
        "  p = sorted(personagem(),reverse=True)\n",
        "  \n",
        "\n",
        "  return print(r,b,c,p)"
      ],
      "execution_count": 0,
      "outputs": []
    },
    {
      "cell_type": "code",
      "metadata": {
        "id": "YCfqaOcGnQps",
        "colab_type": "code",
        "outputId": "e872996a-5828-45ef-88d3-668e69af4f50",
        "colab": {
          "base_uri": "https://localhost:8080/",
          "height": 102
        }
      },
      "source": [
        "luke = personagem_completo()\n",
        "dino = personagem_completo()\n",
        "marcos = personagem_completo()\n",
        "perrela = personagem_completo()\n",
        "casaemo = personagem_completo()"
      ],
      "execution_count": 0,
      "outputs": [
        {
          "output_type": "stream",
          "text": [
            "Rock Gnome Soldado Barbaro [17, 16, 15, 12, 12, 12]\n",
            "Half-Elf Sabio Bruxo [16, 15, 13, 13, 13, 12]\n",
            "Half-Orc Artesao de Guilda Clerigo [15, 15, 13, 12, 12, 9]\n",
            "Wood Elf Artista Guerreiro [16, 15, 15, 14, 12, 11]\n",
            "Half-Elf Orfao Bardo [16, 16, 14, 12, 10, 9]\n"
          ],
          "name": "stdout"
        }
      ]
    }
  ]
}