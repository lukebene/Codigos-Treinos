{
  "nbformat": 4,
  "nbformat_minor": 0,
  "metadata": {
    "colab": {
      "name": "oo2.ipynb",
      "provenance": [],
      "authorship_tag": "ABX9TyNoimXJsW2VCwKoGPCfOmWB",
      "include_colab_link": true
    },
    "kernelspec": {
      "name": "python3",
      "display_name": "Python 3"
    }
  },
  "cells": [
    {
      "cell_type": "markdown",
      "metadata": {
        "id": "view-in-github",
        "colab_type": "text"
      },
      "source": [
        "<a href=\"https://colab.research.google.com/github/lukebene/Codigos-Treinos/blob/master/oo2.ipynb\" target=\"_parent\"><img src=\"https://colab.research.google.com/assets/colab-badge.svg\" alt=\"Open In Colab\"/></a>"
      ]
    },
    {
      "cell_type": "code",
      "metadata": {
        "id": "4CHkEs-95Wz_",
        "colab_type": "code",
        "cellView": "code",
        "colab": {}
      },
      "source": [
        "\n",
        "class Programa:\n",
        "  def __init__(self,nome,ano):\n",
        "      self._nome=nome.title()\n",
        "      self.ano=ano\n",
        "      self._likes = 0\n",
        "  \n",
        "  def dar_like(self):\n",
        "    self._likes += 1\n",
        "\n",
        "  @property\n",
        "  def likes(self):\n",
        "    return self._likes\n",
        "\n",
        "  @property\n",
        "  def nome(self):\n",
        "    return self._nome\n",
        "\n",
        "  @nome.setter\n",
        "  def nome(self, novo_nome):\n",
        "    self._nome = novo_nome.tittle()\n",
        "  \n",
        "  def __str__(self):\n",
        "    return f\"{self.nome} - {self.ano} - {self.likes}\"\n",
        "\n",
        "class Filme(Programa):\n",
        "    def __init__(self,nome,ano,duracao):\n",
        "      super().__init__(nome,ano)\n",
        "      self.duracao = duracao\n",
        "    \n",
        "    def __str__(self):\n",
        "      return f\"{self.nome} - {self.ano} - {self.duracao} min - {self.likes}\"\n",
        "\n",
        "class Serie(Programa):\n",
        "    def __init__(self,nome,ano,temporada):\n",
        "      super().__init__(nome,ano)\n",
        "      self.temporada = temporada\n",
        "\n",
        "    def __str__(self):\n",
        "      return f\"{self.nome} - {self.ano} - {self.temporada} temporadas - {self.likes}\"\n",
        "\n",
        "\n",
        "\n",
        "class Playlist:\n",
        "  def __init__(self,nome,programas):\n",
        "    self.nome = nome\n",
        "    self._programas = programas\n",
        "  \n",
        "  def __getitem__(self,item):\n",
        "    return self._programas[item]\n",
        "\n",
        "  def __len__(self):\n",
        "    return len(self._programas)\n",
        "\n",
        "\n"
      ],
      "execution_count": 0,
      "outputs": []
    },
    {
      "cell_type": "code",
      "metadata": {
        "id": "jPhhgUr5rDDw",
        "colab_type": "code",
        "outputId": "6d4fd347-ac84-4b74-9b04-ae9d892b3671",
        "colab": {
          "base_uri": "https://localhost:8080/",
          "height": 34
        }
      },
      "source": [
        "vingadores = Filme('Vingadores - Guerra Infinita',2018,160)\n",
        "print(vingadores.nome)"
      ],
      "execution_count": 0,
      "outputs": [
        {
          "output_type": "stream",
          "text": [
            "Vingadores - Guerra Infinita\n"
          ],
          "name": "stdout"
        }
      ]
    },
    {
      "cell_type": "code",
      "metadata": {
        "id": "WVmTRJqZsBCZ",
        "colab_type": "code",
        "outputId": "95bafe10-6339-42c4-ec28-0e25e524a040",
        "colab": {
          "base_uri": "https://localhost:8080/",
          "height": 34
        }
      },
      "source": [
        "dark = Serie('Dark',2018,3)\n",
        "print(f'Nome: {dark.nome} - Ano: {dark.ano} - Temporadas: {dark.temporada} - Likes: {dark.likes}')"
      ],
      "execution_count": 0,
      "outputs": [
        {
          "output_type": "stream",
          "text": [
            "Nome: Dark - Ano: 2018 - Temporadas: 3 - Likes: 0\n"
          ],
          "name": "stdout"
        }
      ]
    },
    {
      "cell_type": "code",
      "metadata": {
        "id": "bEZoPGF-sV1n",
        "colab_type": "code",
        "outputId": "fea5a9fc-10b4-476d-87e3-c457ecb00e1c",
        "colab": {
          "base_uri": "https://localhost:8080/",
          "height": 34
        }
      },
      "source": [
        "dark.dar_like()\n",
        "print(f'Nome: {dark.nome} - Ano: {dark.ano} - Temporadas: {dark.temporada} - Likes: {dark.likes}')"
      ],
      "execution_count": 0,
      "outputs": [
        {
          "output_type": "stream",
          "text": [
            "Nome: Dark - Ano: 2018 - Temporadas: 3 - Likes: 1\n"
          ],
          "name": "stdout"
        }
      ]
    },
    {
      "cell_type": "code",
      "metadata": {
        "id": "9PERunqhMjR-",
        "colab_type": "code",
        "outputId": "3da9976e-1a66-4b89-e172-1c3bd1221616",
        "colab": {
          "base_uri": "https://localhost:8080/",
          "height": 51
        }
      },
      "source": [
        "filmes_e_series = [vingadores,dark]\n",
        "\n",
        "for programa in filmes_e_series:\n",
        "  print(programa)"
      ],
      "execution_count": 0,
      "outputs": [
        {
          "output_type": "stream",
          "text": [
            "Vingadores - Guerra Infinita - 2018 - 160 min - 0\n",
            "Dark - 2018 - 3 temporadas - 1\n"
          ],
          "name": "stdout"
        }
      ]
    },
    {
      "cell_type": "code",
      "metadata": {
        "id": "wN_UK9PaWcsY",
        "colab_type": "code",
        "colab": {}
      },
      "source": [
        "tmep = Filme('Todo mundo em panico',1999,100)\n",
        "upload = Serie('Upload',2020,1)\n",
        "hpp = Filme('Harry Potter e a Pedra Filosofal',1999,121)\n",
        "supernatural = Serie('Supernatural',2006,14)\n",
        "\n",
        "filmes_e_series = [vingadores,dark,tmep,upload,hpp,supernatural]"
      ],
      "execution_count": 0,
      "outputs": []
    },
    {
      "cell_type": "code",
      "metadata": {
        "id": "QclpRYzrcA3D",
        "colab_type": "code",
        "outputId": "2ec482e9-edd9-43a8-94c4-37bc4521c9cf",
        "colab": {
          "base_uri": "https://localhost:8080/",
          "height": 119
        }
      },
      "source": [
        "lista = Playlist('Filmes Vistos',filmes_e_series)\n",
        "\n",
        "for programas in lista:\n",
        "  print(programas)"
      ],
      "execution_count": 0,
      "outputs": [
        {
          "output_type": "stream",
          "text": [
            "Vingadores - Guerra Infinita - 2018 - 160 min - 0\n",
            "Dark - 2018 - 3 temporadas - 1\n",
            "Todo Mundo Em Panico - 1999 - 100 min - 0\n",
            "Upload - 2020 - 1 temporadas - 0\n",
            "Harry Potter E A Pedra Filosofal - 1999 - 121 min - 0\n",
            "Supernatural - 2006 - 14 temporadas - 0\n"
          ],
          "name": "stdout"
        }
      ]
    },
    {
      "cell_type": "code",
      "metadata": {
        "id": "Q31Sp9uCeG_T",
        "colab_type": "code",
        "outputId": "84d29122-4003-4585-c9bf-4e272b553fc0",
        "colab": {
          "base_uri": "https://localhost:8080/",
          "height": 34
        }
      },
      "source": [
        "len(lista)"
      ],
      "execution_count": 0,
      "outputs": [
        {
          "output_type": "execute_result",
          "data": {
            "text/plain": [
              "6"
            ]
          },
          "metadata": {
            "tags": []
          },
          "execution_count": 8
        }
      ]
    },
    {
      "cell_type": "code",
      "metadata": {
        "id": "CtOX9NZdY3PH",
        "colab_type": "code",
        "colab": {}
      },
      "source": [
        ""
      ],
      "execution_count": 0,
      "outputs": []
    }
  ]
}