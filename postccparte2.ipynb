{
  "nbformat": 4,
  "nbformat_minor": 0,
  "metadata": {
    "colab": {
      "name": "postccparte2.ipynb",
      "provenance": [],
      "collapsed_sections": [],
      "authorship_tag": "ABX9TyNuHMriYdT9iwWUoFP+i0E7",
      "include_colab_link": true
    },
    "kernelspec": {
      "name": "python3",
      "display_name": "Python 3"
    }
  },
  "cells": [
    {
      "cell_type": "markdown",
      "metadata": {
        "id": "view-in-github",
        "colab_type": "text"
      },
      "source": [
        "<a href=\"https://colab.research.google.com/github/lukebene/Codigos-Treinos/blob/master/postccparte2.ipynb\" target=\"_parent\"><img src=\"https://colab.research.google.com/assets/colab-badge.svg\" alt=\"Open In Colab\"/></a>"
      ]
    },
    {
      "cell_type": "code",
      "metadata": {
        "id": "ZaT0EjjjOU_9",
        "colab_type": "code",
        "outputId": "7c344809-f41d-4339-8160-5daaf665929f",
        "colab": {
          "base_uri": "https://localhost:8080/",
          "height": 34
        }
      },
      "source": [
        "from google.colab import drive\n",
        "\n",
        "drive.mount('/content/gdrive')\n",
        "root_path = 'gdrive/My Drive/' "
      ],
      "execution_count": 0,
      "outputs": [
        {
          "output_type": "stream",
          "text": [
            "Drive already mounted at /content/gdrive; to attempt to forcibly remount, call drive.mount(\"/content/gdrive\", force_remount=True).\n"
          ],
          "name": "stdout"
        }
      ]
    },
    {
      "cell_type": "code",
      "metadata": {
        "id": "4U8-_Tr7OmMu",
        "colab_type": "code",
        "colab": {}
      },
      "source": [
        "import warnings\n",
        "warnings.filterwarnings(\"ignore\")\n",
        "\n",
        "\n",
        "import pandas as pd\n",
        "import numpy as np\n",
        "import matplotlib.pyplot as plt\n",
        "import seaborn as sns\n",
        "%matplotlib inline\n",
        "import matplotlib.cm as cm\n",
        "from random import seed,sample\n",
        "from sklearn.model_selection import train_test_split\n",
        "from sklearn.preprocessing import StandardScaler\n",
        "from sklearn.metrics import classification_report,confusion_matrix,accuracy_score, roc_curve, auc,\\\n",
        "precision_score\n",
        "from sklearn.ensemble import RandomForestClassifier\n",
        "import warnings\n",
        "warnings.filterwarnings(\"ignore\", category=DeprecationWarning)\n",
        "\n",
        "sns.set(style=\"whitegrid\")"
      ],
      "execution_count": 0,
      "outputs": []
    },
    {
      "cell_type": "code",
      "metadata": {
        "id": "CqSrONkPO2sl",
        "colab_type": "code",
        "outputId": "4a820fca-2314-4690-e542-1ba1509d78a6",
        "colab": {
          "base_uri": "https://localhost:8080/",
          "height": 218
        }
      },
      "source": [
        "dados = pd.read_csv('/content/gdrive/My Drive/df.csv')\n",
        "\n",
        "dados.head()"
      ],
      "execution_count": 0,
      "outputs": [
        {
          "output_type": "execute_result",
          "data": {
            "text/html": [
              "<div>\n",
              "<style scoped>\n",
              "    .dataframe tbody tr th:only-of-type {\n",
              "        vertical-align: middle;\n",
              "    }\n",
              "\n",
              "    .dataframe tbody tr th {\n",
              "        vertical-align: top;\n",
              "    }\n",
              "\n",
              "    .dataframe thead th {\n",
              "        text-align: right;\n",
              "    }\n",
              "</style>\n",
              "<table border=\"1\" class=\"dataframe\">\n",
              "  <thead>\n",
              "    <tr style=\"text-align: right;\">\n",
              "      <th></th>\n",
              "      <th>Passo</th>\n",
              "      <th>Tipo</th>\n",
              "      <th>Valor</th>\n",
              "      <th>Origem</th>\n",
              "      <th>SaldoOrigemVelho</th>\n",
              "      <th>SaldoOrigemNovo</th>\n",
              "      <th>Destino</th>\n",
              "      <th>SaldoDestinoVelho</th>\n",
              "      <th>SaldoDestinoNovo</th>\n",
              "      <th>Fraude</th>\n",
              "      <th>Detectado</th>\n",
              "    </tr>\n",
              "  </thead>\n",
              "  <tbody>\n",
              "    <tr>\n",
              "      <th>0</th>\n",
              "      <td>1</td>\n",
              "      <td>PAYMENT</td>\n",
              "      <td>9839.64</td>\n",
              "      <td>C1231006815</td>\n",
              "      <td>170136.0</td>\n",
              "      <td>160296.36</td>\n",
              "      <td>M1979787155</td>\n",
              "      <td>0.0</td>\n",
              "      <td>0.0</td>\n",
              "      <td>0</td>\n",
              "      <td>0</td>\n",
              "    </tr>\n",
              "    <tr>\n",
              "      <th>1</th>\n",
              "      <td>1</td>\n",
              "      <td>PAYMENT</td>\n",
              "      <td>1864.28</td>\n",
              "      <td>C1666544295</td>\n",
              "      <td>21249.0</td>\n",
              "      <td>19384.72</td>\n",
              "      <td>M2044282225</td>\n",
              "      <td>0.0</td>\n",
              "      <td>0.0</td>\n",
              "      <td>0</td>\n",
              "      <td>0</td>\n",
              "    </tr>\n",
              "    <tr>\n",
              "      <th>2</th>\n",
              "      <td>1</td>\n",
              "      <td>TRANSFER</td>\n",
              "      <td>181.00</td>\n",
              "      <td>C1305486145</td>\n",
              "      <td>181.0</td>\n",
              "      <td>0.00</td>\n",
              "      <td>C553264065</td>\n",
              "      <td>0.0</td>\n",
              "      <td>0.0</td>\n",
              "      <td>1</td>\n",
              "      <td>0</td>\n",
              "    </tr>\n",
              "    <tr>\n",
              "      <th>3</th>\n",
              "      <td>1</td>\n",
              "      <td>CASH_OUT</td>\n",
              "      <td>181.00</td>\n",
              "      <td>C840083671</td>\n",
              "      <td>181.0</td>\n",
              "      <td>0.00</td>\n",
              "      <td>C38997010</td>\n",
              "      <td>21182.0</td>\n",
              "      <td>0.0</td>\n",
              "      <td>1</td>\n",
              "      <td>0</td>\n",
              "    </tr>\n",
              "    <tr>\n",
              "      <th>4</th>\n",
              "      <td>1</td>\n",
              "      <td>PAYMENT</td>\n",
              "      <td>11668.14</td>\n",
              "      <td>C2048537720</td>\n",
              "      <td>41554.0</td>\n",
              "      <td>29885.86</td>\n",
              "      <td>M1230701703</td>\n",
              "      <td>0.0</td>\n",
              "      <td>0.0</td>\n",
              "      <td>0</td>\n",
              "      <td>0</td>\n",
              "    </tr>\n",
              "  </tbody>\n",
              "</table>\n",
              "</div>"
            ],
            "text/plain": [
              "   Passo      Tipo     Valor  ... SaldoDestinoNovo  Fraude  Detectado\n",
              "0      1   PAYMENT   9839.64  ...              0.0       0          0\n",
              "1      1   PAYMENT   1864.28  ...              0.0       0          0\n",
              "2      1  TRANSFER    181.00  ...              0.0       1          0\n",
              "3      1  CASH_OUT    181.00  ...              0.0       1          0\n",
              "4      1   PAYMENT  11668.14  ...              0.0       0          0\n",
              "\n",
              "[5 rows x 11 columns]"
            ]
          },
          "metadata": {
            "tags": []
          },
          "execution_count": 112
        }
      ]
    },
    {
      "cell_type": "code",
      "metadata": {
        "id": "VouyqWtOPEfS",
        "colab_type": "code",
        "outputId": "4a38a826-7892-47c7-b510-b3072cbc28db",
        "colab": {
          "base_uri": "https://localhost:8080/",
          "height": 198
        }
      },
      "source": [
        "dados = dados.drop('Detectado',axis=1)\n",
        "dados.head()"
      ],
      "execution_count": 0,
      "outputs": [
        {
          "output_type": "execute_result",
          "data": {
            "text/html": [
              "<div>\n",
              "<style scoped>\n",
              "    .dataframe tbody tr th:only-of-type {\n",
              "        vertical-align: middle;\n",
              "    }\n",
              "\n",
              "    .dataframe tbody tr th {\n",
              "        vertical-align: top;\n",
              "    }\n",
              "\n",
              "    .dataframe thead th {\n",
              "        text-align: right;\n",
              "    }\n",
              "</style>\n",
              "<table border=\"1\" class=\"dataframe\">\n",
              "  <thead>\n",
              "    <tr style=\"text-align: right;\">\n",
              "      <th></th>\n",
              "      <th>Passo</th>\n",
              "      <th>Tipo</th>\n",
              "      <th>Valor</th>\n",
              "      <th>Origem</th>\n",
              "      <th>SaldoOrigemVelho</th>\n",
              "      <th>SaldoOrigemNovo</th>\n",
              "      <th>Destino</th>\n",
              "      <th>SaldoDestinoVelho</th>\n",
              "      <th>SaldoDestinoNovo</th>\n",
              "      <th>Fraude</th>\n",
              "    </tr>\n",
              "  </thead>\n",
              "  <tbody>\n",
              "    <tr>\n",
              "      <th>0</th>\n",
              "      <td>1</td>\n",
              "      <td>PAYMENT</td>\n",
              "      <td>9839.64</td>\n",
              "      <td>C1231006815</td>\n",
              "      <td>170136.0</td>\n",
              "      <td>160296.36</td>\n",
              "      <td>M1979787155</td>\n",
              "      <td>0.0</td>\n",
              "      <td>0.0</td>\n",
              "      <td>0</td>\n",
              "    </tr>\n",
              "    <tr>\n",
              "      <th>1</th>\n",
              "      <td>1</td>\n",
              "      <td>PAYMENT</td>\n",
              "      <td>1864.28</td>\n",
              "      <td>C1666544295</td>\n",
              "      <td>21249.0</td>\n",
              "      <td>19384.72</td>\n",
              "      <td>M2044282225</td>\n",
              "      <td>0.0</td>\n",
              "      <td>0.0</td>\n",
              "      <td>0</td>\n",
              "    </tr>\n",
              "    <tr>\n",
              "      <th>2</th>\n",
              "      <td>1</td>\n",
              "      <td>TRANSFER</td>\n",
              "      <td>181.00</td>\n",
              "      <td>C1305486145</td>\n",
              "      <td>181.0</td>\n",
              "      <td>0.00</td>\n",
              "      <td>C553264065</td>\n",
              "      <td>0.0</td>\n",
              "      <td>0.0</td>\n",
              "      <td>1</td>\n",
              "    </tr>\n",
              "    <tr>\n",
              "      <th>3</th>\n",
              "      <td>1</td>\n",
              "      <td>CASH_OUT</td>\n",
              "      <td>181.00</td>\n",
              "      <td>C840083671</td>\n",
              "      <td>181.0</td>\n",
              "      <td>0.00</td>\n",
              "      <td>C38997010</td>\n",
              "      <td>21182.0</td>\n",
              "      <td>0.0</td>\n",
              "      <td>1</td>\n",
              "    </tr>\n",
              "    <tr>\n",
              "      <th>4</th>\n",
              "      <td>1</td>\n",
              "      <td>PAYMENT</td>\n",
              "      <td>11668.14</td>\n",
              "      <td>C2048537720</td>\n",
              "      <td>41554.0</td>\n",
              "      <td>29885.86</td>\n",
              "      <td>M1230701703</td>\n",
              "      <td>0.0</td>\n",
              "      <td>0.0</td>\n",
              "      <td>0</td>\n",
              "    </tr>\n",
              "  </tbody>\n",
              "</table>\n",
              "</div>"
            ],
            "text/plain": [
              "   Passo      Tipo     Valor  ... SaldoDestinoVelho  SaldoDestinoNovo  Fraude\n",
              "0      1   PAYMENT   9839.64  ...               0.0               0.0       0\n",
              "1      1   PAYMENT   1864.28  ...               0.0               0.0       0\n",
              "2      1  TRANSFER    181.00  ...               0.0               0.0       1\n",
              "3      1  CASH_OUT    181.00  ...           21182.0               0.0       1\n",
              "4      1   PAYMENT  11668.14  ...               0.0               0.0       0\n",
              "\n",
              "[5 rows x 10 columns]"
            ]
          },
          "metadata": {
            "tags": []
          },
          "execution_count": 113
        }
      ]
    },
    {
      "cell_type": "code",
      "metadata": {
        "id": "cPByBVCLPK_P",
        "colab_type": "code",
        "outputId": "693ea96a-3f4e-48b7-8a1c-6008d69347fb",
        "colab": {
          "base_uri": "https://localhost:8080/",
          "height": 218
        }
      },
      "source": [
        "dados2 = dados.copy() #mais uma copia de segurança do dataset\n",
        "\n",
        "dados2[\"HoraDoDia\"] = np.nan\n",
        "dados2.HoraDoDia = dados.Passo % 24\n",
        "\n",
        "\n",
        "dados2[\"ErroSaldoOrigem\"] = dados.SaldoOrigemNovo + dados.Valor - dados.SaldoOrigemVelho\n",
        "dados2[\"ErroSaldoDestino\"] = dados.SaldoDestinoNovo + dados.Valor - dados.SaldoDestinoNovo\n",
        "\n",
        "dados2.head()\n",
        "#dados= dados[(dados[\"Tipo\"] == \"CASH_OUT\") | (dados[\"Tipo\"] == \"TRANSFER\")]\n",
        "\n",
        "#dados.head()"
      ],
      "execution_count": 0,
      "outputs": [
        {
          "output_type": "execute_result",
          "data": {
            "text/html": [
              "<div>\n",
              "<style scoped>\n",
              "    .dataframe tbody tr th:only-of-type {\n",
              "        vertical-align: middle;\n",
              "    }\n",
              "\n",
              "    .dataframe tbody tr th {\n",
              "        vertical-align: top;\n",
              "    }\n",
              "\n",
              "    .dataframe thead th {\n",
              "        text-align: right;\n",
              "    }\n",
              "</style>\n",
              "<table border=\"1\" class=\"dataframe\">\n",
              "  <thead>\n",
              "    <tr style=\"text-align: right;\">\n",
              "      <th></th>\n",
              "      <th>Passo</th>\n",
              "      <th>Tipo</th>\n",
              "      <th>Valor</th>\n",
              "      <th>Origem</th>\n",
              "      <th>SaldoOrigemVelho</th>\n",
              "      <th>SaldoOrigemNovo</th>\n",
              "      <th>Destino</th>\n",
              "      <th>SaldoDestinoVelho</th>\n",
              "      <th>SaldoDestinoNovo</th>\n",
              "      <th>Fraude</th>\n",
              "      <th>HoraDoDia</th>\n",
              "      <th>ErroSaldoOrigem</th>\n",
              "      <th>ErroSaldoDestino</th>\n",
              "    </tr>\n",
              "  </thead>\n",
              "  <tbody>\n",
              "    <tr>\n",
              "      <th>0</th>\n",
              "      <td>1</td>\n",
              "      <td>PAYMENT</td>\n",
              "      <td>9839.64</td>\n",
              "      <td>C1231006815</td>\n",
              "      <td>170136.0</td>\n",
              "      <td>160296.36</td>\n",
              "      <td>M1979787155</td>\n",
              "      <td>0.0</td>\n",
              "      <td>0.0</td>\n",
              "      <td>0</td>\n",
              "      <td>1</td>\n",
              "      <td>0.0</td>\n",
              "      <td>9839.64</td>\n",
              "    </tr>\n",
              "    <tr>\n",
              "      <th>1</th>\n",
              "      <td>1</td>\n",
              "      <td>PAYMENT</td>\n",
              "      <td>1864.28</td>\n",
              "      <td>C1666544295</td>\n",
              "      <td>21249.0</td>\n",
              "      <td>19384.72</td>\n",
              "      <td>M2044282225</td>\n",
              "      <td>0.0</td>\n",
              "      <td>0.0</td>\n",
              "      <td>0</td>\n",
              "      <td>1</td>\n",
              "      <td>0.0</td>\n",
              "      <td>1864.28</td>\n",
              "    </tr>\n",
              "    <tr>\n",
              "      <th>2</th>\n",
              "      <td>1</td>\n",
              "      <td>TRANSFER</td>\n",
              "      <td>181.00</td>\n",
              "      <td>C1305486145</td>\n",
              "      <td>181.0</td>\n",
              "      <td>0.00</td>\n",
              "      <td>C553264065</td>\n",
              "      <td>0.0</td>\n",
              "      <td>0.0</td>\n",
              "      <td>1</td>\n",
              "      <td>1</td>\n",
              "      <td>0.0</td>\n",
              "      <td>181.00</td>\n",
              "    </tr>\n",
              "    <tr>\n",
              "      <th>3</th>\n",
              "      <td>1</td>\n",
              "      <td>CASH_OUT</td>\n",
              "      <td>181.00</td>\n",
              "      <td>C840083671</td>\n",
              "      <td>181.0</td>\n",
              "      <td>0.00</td>\n",
              "      <td>C38997010</td>\n",
              "      <td>21182.0</td>\n",
              "      <td>0.0</td>\n",
              "      <td>1</td>\n",
              "      <td>1</td>\n",
              "      <td>0.0</td>\n",
              "      <td>181.00</td>\n",
              "    </tr>\n",
              "    <tr>\n",
              "      <th>4</th>\n",
              "      <td>1</td>\n",
              "      <td>PAYMENT</td>\n",
              "      <td>11668.14</td>\n",
              "      <td>C2048537720</td>\n",
              "      <td>41554.0</td>\n",
              "      <td>29885.86</td>\n",
              "      <td>M1230701703</td>\n",
              "      <td>0.0</td>\n",
              "      <td>0.0</td>\n",
              "      <td>0</td>\n",
              "      <td>1</td>\n",
              "      <td>0.0</td>\n",
              "      <td>11668.14</td>\n",
              "    </tr>\n",
              "  </tbody>\n",
              "</table>\n",
              "</div>"
            ],
            "text/plain": [
              "   Passo      Tipo     Valor  ... HoraDoDia  ErroSaldoOrigem  ErroSaldoDestino\n",
              "0      1   PAYMENT   9839.64  ...         1              0.0           9839.64\n",
              "1      1   PAYMENT   1864.28  ...         1              0.0           1864.28\n",
              "2      1  TRANSFER    181.00  ...         1              0.0            181.00\n",
              "3      1  CASH_OUT    181.00  ...         1              0.0            181.00\n",
              "4      1   PAYMENT  11668.14  ...         1              0.0          11668.14\n",
              "\n",
              "[5 rows x 13 columns]"
            ]
          },
          "metadata": {
            "tags": []
          },
          "execution_count": 114
        }
      ]
    },
    {
      "cell_type": "code",
      "metadata": {
        "id": "LL-YGDSNJOiM",
        "colab_type": "code",
        "outputId": "38054bc4-81e8-43fc-f0f5-1a484b7421b4",
        "colab": {
          "base_uri": "https://localhost:8080/",
          "height": 370
        }
      },
      "source": [
        "fraude = dados2[dados2[\"Fraude\"] == 1]\n",
        "valida = dados2[dados2[\"Fraude\"] == 0]\n",
        "\n",
        "\n",
        "print(\"Sumario Estatistico do ErroSaldoOrigem em transações Fraudulentas: \\n\",fraude[\"ErroSaldoOrigem\"].describe())\n",
        "print(\"\\n Sumario Estatistico do ErroSaldoOrigem em transações Validas: \\n\",valida[\"ErroSaldoOrigem\"].describe())"
      ],
      "execution_count": 0,
      "outputs": [
        {
          "output_type": "stream",
          "text": [
            "Sumario Estatistico do ErroSaldoOrigem em transações Fraudulentas: \n",
            " count    8.213000e+03\n",
            "mean     1.069233e+04\n",
            "std      2.651461e+05\n",
            "min     -7.450581e-09\n",
            "25%      0.000000e+00\n",
            "50%      0.000000e+00\n",
            "75%      0.000000e+00\n",
            "max      1.000000e+07\n",
            "Name: ErroSaldoOrigem, dtype: float64\n",
            "\n",
            " Sumario Estatistico do ErroSaldoOrigem em transações Validas: \n",
            " count    6.354407e+06\n",
            "mean     2.013386e+05\n",
            "std      6.069289e+05\n",
            "min     -1.000000e-02\n",
            "25%      3.034305e+03\n",
            "50%      6.904931e+04\n",
            "75%      2.499534e+05\n",
            "max      9.244552e+07\n",
            "Name: ErroSaldoOrigem, dtype: float64\n"
          ],
          "name": "stdout"
        }
      ]
    },
    {
      "cell_type": "code",
      "metadata": {
        "id": "fCXq9OepPTT7",
        "colab_type": "code",
        "outputId": "5207f4cd-5ba6-48b9-e4ba-cf67bf9898a9",
        "colab": {
          "base_uri": "https://localhost:8080/",
          "height": 195
        }
      },
      "source": [
        "dados2 = dados2.drop(['Origem','Destino'],axis=1)\n",
        "dados2= dados2[(dados2[\"Tipo\"] == \"CASH_OUT\") | (dados2[\"Tipo\"] == \"TRANSFER\")]\n",
        "\n",
        "dados2 = pd.get_dummies(dados2,prefix=['Tipo'])\n",
        "dados2.head()"
      ],
      "execution_count": 0,
      "outputs": [
        {
          "output_type": "execute_result",
          "data": {
            "text/html": [
              "<div>\n",
              "<style scoped>\n",
              "    .dataframe tbody tr th:only-of-type {\n",
              "        vertical-align: middle;\n",
              "    }\n",
              "\n",
              "    .dataframe tbody tr th {\n",
              "        vertical-align: top;\n",
              "    }\n",
              "\n",
              "    .dataframe thead th {\n",
              "        text-align: right;\n",
              "    }\n",
              "</style>\n",
              "<table border=\"1\" class=\"dataframe\">\n",
              "  <thead>\n",
              "    <tr style=\"text-align: right;\">\n",
              "      <th></th>\n",
              "      <th>Passo</th>\n",
              "      <th>Valor</th>\n",
              "      <th>SaldoOrigemVelho</th>\n",
              "      <th>SaldoOrigemNovo</th>\n",
              "      <th>SaldoDestinoVelho</th>\n",
              "      <th>SaldoDestinoNovo</th>\n",
              "      <th>Fraude</th>\n",
              "      <th>HoraDoDia</th>\n",
              "      <th>ErroSaldoOrigem</th>\n",
              "      <th>ErroSaldoDestino</th>\n",
              "      <th>Tipo_CASH_OUT</th>\n",
              "      <th>Tipo_TRANSFER</th>\n",
              "    </tr>\n",
              "  </thead>\n",
              "  <tbody>\n",
              "    <tr>\n",
              "      <th>2</th>\n",
              "      <td>1</td>\n",
              "      <td>181.00</td>\n",
              "      <td>181.0</td>\n",
              "      <td>0.0</td>\n",
              "      <td>0.0</td>\n",
              "      <td>0.00</td>\n",
              "      <td>1</td>\n",
              "      <td>1</td>\n",
              "      <td>0.00</td>\n",
              "      <td>181.00</td>\n",
              "      <td>0</td>\n",
              "      <td>1</td>\n",
              "    </tr>\n",
              "    <tr>\n",
              "      <th>3</th>\n",
              "      <td>1</td>\n",
              "      <td>181.00</td>\n",
              "      <td>181.0</td>\n",
              "      <td>0.0</td>\n",
              "      <td>21182.0</td>\n",
              "      <td>0.00</td>\n",
              "      <td>1</td>\n",
              "      <td>1</td>\n",
              "      <td>0.00</td>\n",
              "      <td>181.00</td>\n",
              "      <td>1</td>\n",
              "      <td>0</td>\n",
              "    </tr>\n",
              "    <tr>\n",
              "      <th>15</th>\n",
              "      <td>1</td>\n",
              "      <td>229133.94</td>\n",
              "      <td>15325.0</td>\n",
              "      <td>0.0</td>\n",
              "      <td>5083.0</td>\n",
              "      <td>51513.44</td>\n",
              "      <td>0</td>\n",
              "      <td>1</td>\n",
              "      <td>213808.94</td>\n",
              "      <td>229133.94</td>\n",
              "      <td>1</td>\n",
              "      <td>0</td>\n",
              "    </tr>\n",
              "    <tr>\n",
              "      <th>19</th>\n",
              "      <td>1</td>\n",
              "      <td>215310.30</td>\n",
              "      <td>705.0</td>\n",
              "      <td>0.0</td>\n",
              "      <td>22425.0</td>\n",
              "      <td>0.00</td>\n",
              "      <td>0</td>\n",
              "      <td>1</td>\n",
              "      <td>214605.30</td>\n",
              "      <td>215310.30</td>\n",
              "      <td>0</td>\n",
              "      <td>1</td>\n",
              "    </tr>\n",
              "    <tr>\n",
              "      <th>24</th>\n",
              "      <td>1</td>\n",
              "      <td>311685.89</td>\n",
              "      <td>10835.0</td>\n",
              "      <td>0.0</td>\n",
              "      <td>6267.0</td>\n",
              "      <td>2719172.89</td>\n",
              "      <td>0</td>\n",
              "      <td>1</td>\n",
              "      <td>300850.89</td>\n",
              "      <td>311685.89</td>\n",
              "      <td>0</td>\n",
              "      <td>1</td>\n",
              "    </tr>\n",
              "  </tbody>\n",
              "</table>\n",
              "</div>"
            ],
            "text/plain": [
              "    Passo      Valor  ...  Tipo_CASH_OUT  Tipo_TRANSFER\n",
              "2       1     181.00  ...              0              1\n",
              "3       1     181.00  ...              1              0\n",
              "15      1  229133.94  ...              1              0\n",
              "19      1  215310.30  ...              0              1\n",
              "24      1  311685.89  ...              0              1\n",
              "\n",
              "[5 rows x 12 columns]"
            ]
          },
          "metadata": {
            "tags": []
          },
          "execution_count": 116
        }
      ]
    },
    {
      "cell_type": "code",
      "metadata": {
        "id": "ZPIvdLniRDCw",
        "colab_type": "code",
        "colab": {}
      },
      "source": [
        "import seaborn as sns"
      ],
      "execution_count": 0,
      "outputs": []
    },
    {
      "cell_type": "code",
      "metadata": {
        "id": "CJOvGbo64wwi",
        "colab_type": "code",
        "outputId": "43d3778a-6b55-4ef8-906b-d7b0392d1586",
        "colab": {
          "base_uri": "https://localhost:8080/",
          "height": 382
        }
      },
      "source": [
        "sns.heatmap(dados2.corr())"
      ],
      "execution_count": 0,
      "outputs": [
        {
          "output_type": "execute_result",
          "data": {
            "text/plain": [
              "<matplotlib.axes._subplots.AxesSubplot at 0x7f7d9f907dd8>"
            ]
          },
          "metadata": {
            "tags": []
          },
          "execution_count": 23
        },
        {
          "output_type": "display_data",
          "data": {
            "image/png": "[encoded data removed]",
            "text/plain": [
              "<Figure size 432x288 with 2 Axes>"
            ]
          },
          "metadata": {
            "tags": []
          }
        }
      ]
    },
    {
      "cell_type": "code",
      "metadata": {
        "id": "XGcExzYl4-iH",
        "colab_type": "code",
        "outputId": "3b13517f-6492-42fd-8440-d105c0fa60fa",
        "colab": {
          "base_uri": "https://localhost:8080/",
          "height": 422
        }
      },
      "source": [
        "#dados2=  dados.drop(['Passo'],axis = 1)\n",
        "\n",
        "dados2.corr()"
      ],
      "execution_count": 0,
      "outputs": [
        {
          "output_type": "execute_result",
          "data": {
            "text/html": [
              "<div>\n",
              "<style scoped>\n",
              "    .dataframe tbody tr th:only-of-type {\n",
              "        vertical-align: middle;\n",
              "    }\n",
              "\n",
              "    .dataframe tbody tr th {\n",
              "        vertical-align: top;\n",
              "    }\n",
              "\n",
              "    .dataframe thead th {\n",
              "        text-align: right;\n",
              "    }\n",
              "</style>\n",
              "<table border=\"1\" class=\"dataframe\">\n",
              "  <thead>\n",
              "    <tr style=\"text-align: right;\">\n",
              "      <th></th>\n",
              "      <th>Passo</th>\n",
              "      <th>Valor</th>\n",
              "      <th>SaldoOrigemVelho</th>\n",
              "      <th>SaldoOrigemNovo</th>\n",
              "      <th>SaldoDestinoVelho</th>\n",
              "      <th>SaldoDestinoNovo</th>\n",
              "      <th>Fraude</th>\n",
              "      <th>HoraDoDia</th>\n",
              "      <th>ErroSaldoOrigem</th>\n",
              "      <th>ErroSaldoDestino</th>\n",
              "      <th>Tipo_CASH_OUT</th>\n",
              "      <th>Tipo_TRANSFER</th>\n",
              "    </tr>\n",
              "  </thead>\n",
              "  <tbody>\n",
              "    <tr>\n",
              "      <th>Passo</th>\n",
              "      <td>1.000000</td>\n",
              "      <td>0.037007</td>\n",
              "      <td>0.005744</td>\n",
              "      <td>-0.011280</td>\n",
              "      <td>0.037778</td>\n",
              "      <td>0.037475</td>\n",
              "      <td>0.048671</td>\n",
              "      <td>0.058486</td>\n",
              "      <td>0.033936</td>\n",
              "      <td>0.037007</td>\n",
              "      <td>-0.016022</td>\n",
              "      <td>0.016022</td>\n",
              "    </tr>\n",
              "    <tr>\n",
              "      <th>Valor</th>\n",
              "      <td>0.037007</td>\n",
              "      <td>1.000000</td>\n",
              "      <td>0.120389</td>\n",
              "      <td>0.018296</td>\n",
              "      <td>0.307133</td>\n",
              "      <td>0.497027</td>\n",
              "      <td>0.070660</td>\n",
              "      <td>-0.041869</td>\n",
              "      <td>0.982838</td>\n",
              "      <td>1.000000</td>\n",
              "      <td>-0.326040</td>\n",
              "      <td>0.326040</td>\n",
              "    </tr>\n",
              "    <tr>\n",
              "      <th>SaldoOrigemVelho</th>\n",
              "      <td>0.005744</td>\n",
              "      <td>0.120389</td>\n",
              "      <td>1.000000</td>\n",
              "      <td>0.778826</td>\n",
              "      <td>-0.020403</td>\n",
              "      <td>-0.010029</td>\n",
              "      <td>0.347582</td>\n",
              "      <td>-0.025194</td>\n",
              "      <td>-0.030438</td>\n",
              "      <td>0.120389</td>\n",
              "      <td>-0.013202</td>\n",
              "      <td>0.013202</td>\n",
              "    </tr>\n",
              "    <tr>\n",
              "      <th>SaldoOrigemNovo</th>\n",
              "      <td>-0.011280</td>\n",
              "      <td>0.018296</td>\n",
              "      <td>0.778826</td>\n",
              "      <td>1.000000</td>\n",
              "      <td>-0.012277</td>\n",
              "      <td>-0.015439</td>\n",
              "      <td>0.063557</td>\n",
              "      <td>-0.003961</td>\n",
              "      <td>-0.032263</td>\n",
              "      <td>0.018296</td>\n",
              "      <td>0.018726</td>\n",
              "      <td>-0.018726</td>\n",
              "    </tr>\n",
              "    <tr>\n",
              "      <th>SaldoDestinoVelho</th>\n",
              "      <td>0.037778</td>\n",
              "      <td>0.307133</td>\n",
              "      <td>-0.020403</td>\n",
              "      <td>-0.012277</td>\n",
              "      <td>1.000000</td>\n",
              "      <td>0.970060</td>\n",
              "      <td>-0.014960</td>\n",
              "      <td>0.000594</td>\n",
              "      <td>0.315245</td>\n",
              "      <td>0.307133</td>\n",
              "      <td>-0.099794</td>\n",
              "      <td>0.099794</td>\n",
              "    </tr>\n",
              "    <tr>\n",
              "      <th>SaldoDestinoNovo</th>\n",
              "      <td>0.037475</td>\n",
              "      <td>0.497027</td>\n",
              "      <td>-0.010029</td>\n",
              "      <td>-0.015439</td>\n",
              "      <td>0.970060</td>\n",
              "      <td>1.000000</td>\n",
              "      <td>-0.008978</td>\n",
              "      <td>-0.009042</td>\n",
              "      <td>0.504317</td>\n",
              "      <td>0.497027</td>\n",
              "      <td>-0.157024</td>\n",
              "      <td>0.157024</td>\n",
              "    </tr>\n",
              "    <tr>\n",
              "      <th>Fraude</th>\n",
              "      <td>0.048671</td>\n",
              "      <td>0.070660</td>\n",
              "      <td>0.347582</td>\n",
              "      <td>0.063557</td>\n",
              "      <td>-0.014960</td>\n",
              "      <td>-0.008978</td>\n",
              "      <td>1.000000</td>\n",
              "      <td>-0.051230</td>\n",
              "      <td>-0.017149</td>\n",
              "      <td>0.070660</td>\n",
              "      <td>-0.042400</td>\n",
              "      <td>0.042400</td>\n",
              "    </tr>\n",
              "    <tr>\n",
              "      <th>HoraDoDia</th>\n",
              "      <td>0.058486</td>\n",
              "      <td>-0.041869</td>\n",
              "      <td>-0.025194</td>\n",
              "      <td>-0.003961</td>\n",
              "      <td>0.000594</td>\n",
              "      <td>-0.009042</td>\n",
              "      <td>-0.051230</td>\n",
              "      <td>1.000000</td>\n",
              "      <td>-0.035916</td>\n",
              "      <td>-0.041869</td>\n",
              "      <td>0.012706</td>\n",
              "      <td>-0.012706</td>\n",
              "    </tr>\n",
              "    <tr>\n",
              "      <th>ErroSaldoOrigem</th>\n",
              "      <td>0.033936</td>\n",
              "      <td>0.982838</td>\n",
              "      <td>-0.030438</td>\n",
              "      <td>-0.032263</td>\n",
              "      <td>0.315245</td>\n",
              "      <td>0.504317</td>\n",
              "      <td>-0.017149</td>\n",
              "      <td>-0.035916</td>\n",
              "      <td>1.000000</td>\n",
              "      <td>0.982838</td>\n",
              "      <td>-0.323657</td>\n",
              "      <td>0.323657</td>\n",
              "    </tr>\n",
              "    <tr>\n",
              "      <th>ErroSaldoDestino</th>\n",
              "      <td>0.037007</td>\n",
              "      <td>1.000000</td>\n",
              "      <td>0.120389</td>\n",
              "      <td>0.018296</td>\n",
              "      <td>0.307133</td>\n",
              "      <td>0.497027</td>\n",
              "      <td>0.070660</td>\n",
              "      <td>-0.041869</td>\n",
              "      <td>0.982838</td>\n",
              "      <td>1.000000</td>\n",
              "      <td>-0.326040</td>\n",
              "      <td>0.326040</td>\n",
              "    </tr>\n",
              "    <tr>\n",
              "      <th>Tipo_CASH_OUT</th>\n",
              "      <td>-0.016022</td>\n",
              "      <td>-0.326040</td>\n",
              "      <td>-0.013202</td>\n",
              "      <td>0.018726</td>\n",
              "      <td>-0.099794</td>\n",
              "      <td>-0.157024</td>\n",
              "      <td>-0.042400</td>\n",
              "      <td>0.012706</td>\n",
              "      <td>-0.323657</td>\n",
              "      <td>-0.326040</td>\n",
              "      <td>1.000000</td>\n",
              "      <td>-1.000000</td>\n",
              "    </tr>\n",
              "    <tr>\n",
              "      <th>Tipo_TRANSFER</th>\n",
              "      <td>0.016022</td>\n",
              "      <td>0.326040</td>\n",
              "      <td>0.013202</td>\n",
              "      <td>-0.018726</td>\n",
              "      <td>0.099794</td>\n",
              "      <td>0.157024</td>\n",
              "      <td>0.042400</td>\n",
              "      <td>-0.012706</td>\n",
              "      <td>0.323657</td>\n",
              "      <td>0.326040</td>\n",
              "      <td>-1.000000</td>\n",
              "      <td>1.000000</td>\n",
              "    </tr>\n",
              "  </tbody>\n",
              "</table>\n",
              "</div>"
            ],
            "text/plain": [
              "                      Passo     Valor  ...  Tipo_CASH_OUT  Tipo_TRANSFER\n",
              "Passo              1.000000  0.037007  ...      -0.016022       0.016022\n",
              "Valor              0.037007  1.000000  ...      -0.326040       0.326040\n",
              "SaldoOrigemVelho   0.005744  0.120389  ...      -0.013202       0.013202\n",
              "SaldoOrigemNovo   -0.011280  0.018296  ...       0.018726      -0.018726\n",
              "SaldoDestinoVelho  0.037778  0.307133  ...      -0.099794       0.099794\n",
              "SaldoDestinoNovo   0.037475  0.497027  ...      -0.157024       0.157024\n",
              "Fraude             0.048671  0.070660  ...      -0.042400       0.042400\n",
              "HoraDoDia          0.058486 -0.041869  ...       0.012706      -0.012706\n",
              "ErroSaldoOrigem    0.033936  0.982838  ...      -0.323657       0.323657\n",
              "ErroSaldoDestino   0.037007  1.000000  ...      -0.326040       0.326040\n",
              "Tipo_CASH_OUT     -0.016022 -0.326040  ...       1.000000      -1.000000\n",
              "Tipo_TRANSFER      0.016022  0.326040  ...      -1.000000       1.000000\n",
              "\n",
              "[12 rows x 12 columns]"
            ]
          },
          "metadata": {
            "tags": []
          },
          "execution_count": 24
        }
      ]
    },
    {
      "cell_type": "code",
      "metadata": {
        "id": "RKcLGI9CGwJR",
        "colab_type": "code",
        "outputId": "bf7894d2-3452-4498-9127-9bbce101cc68",
        "colab": {
          "base_uri": "https://localhost:8080/",
          "height": 168
        }
      },
      "source": [
        "dados2.ErroSaldoOrigem.describe()\n",
        "dados2.ErroSaldoDestino.describe()"
      ],
      "execution_count": 0,
      "outputs": [
        {
          "output_type": "execute_result",
          "data": {
            "text/plain": [
              "count    6.362620e+06\n",
              "mean     1.798619e+05\n",
              "std      6.038582e+05\n",
              "min      0.000000e+00\n",
              "25%      1.338957e+04\n",
              "50%      7.487194e+04\n",
              "75%      2.087215e+05\n",
              "max      9.244552e+07\n",
              "Name: ErroSaldoDestino, dtype: float64"
            ]
          },
          "metadata": {
            "tags": []
          },
          "execution_count": 12
        }
      ]
    },
    {
      "cell_type": "code",
      "metadata": {
        "id": "ruuUZJFtRaBr",
        "colab_type": "code",
        "colab": {}
      },
      "source": [
        "RandomState = 3391\n",
        "seed(2882)\n",
        "\n",
        "X = dados2.drop([\"Fraude\"],1)\n",
        "y = dados2.Fraude\n",
        "X_treino, X_teste, y_treino, y_teste = train_test_split(X, y,test_size=0.4)\n",
        "\n",
        "scaler = StandardScaler()\n",
        "\n",
        "scaler.fit(X_treino)\n",
        "\n",
        "X_treino = scaler.transform(X_treino)\n",
        "X_teste = scaler.transform(X_teste)"
      ],
      "execution_count": 0,
      "outputs": []
    },
    {
      "cell_type": "code",
      "metadata": {
        "id": "NZCfIO0XSWHz",
        "colab_type": "code",
        "outputId": "41351dd6-1e98-4e88-e040-b7411fac23b8",
        "colab": {
          "base_uri": "https://localhost:8080/",
          "height": 958
        }
      },
      "source": [
        "parametersRF = {'n_estimators':50,'oob_score':True,'class_weight': \"balanced\",'n_jobs':-1,'verbose':2,'random_state':RandomState}\n",
        "RF = RandomForestClassifier(**parametersRF)\n",
        "fitted_vals = RF.fit(X_treino, y_treino)\n",
        " \n",
        "\n",
        "predictionsRF = RF.predict(X_teste)\n",
        " \n",
        "\n",
        "CM_RF = confusion_matrix(y_teste,predictionsRF)\n",
        "CR_RF = classification_report(y_teste,predictionsRF)\n",
        "fprRF, recallRF, thresholdsRF = roc_curve(y_teste, predictionsRF)\n",
        "AUC_RF = auc(fprRF, recallRF)\n",
        "\n",
        "resultsRF = {\"Matrix de Confusao\" :CM_RF,\"Reporte Estatistico\":CR_RF,\"Curva Roc\":AUC_RF}"
      ],
      "execution_count": 0,
      "outputs": [
        {
          "output_type": "stream",
          "text": [
            "[Parallel(n_jobs=-1)]: Using backend ThreadingBackend with 2 concurrent workers.\n"
          ],
          "name": "stderr"
        },
        {
          "output_type": "stream",
          "text": [
            "building tree 1 of 50\n",
            "building tree 2 of 50\n",
            "building tree 3 of 50\n",
            "building tree 4 of 50\n",
            "building tree 5 of 50\n",
            "building tree 6 of 50\n",
            "building tree 7 of 50\n",
            "building tree 8 of 50\n",
            "building tree 9 of 50\n",
            "building tree 10 of 50\n",
            "building tree 11 of 50\n",
            "building tree 12 of 50\n",
            "building tree 13 of 50\n",
            "building tree 14 of 50\n",
            "building tree 15 of 50\n",
            "building tree 16 of 50\n",
            "building tree 17 of 50\n",
            "building tree 18 of 50\n",
            "building tree 19 of 50\n",
            "building tree 20 of 50\n",
            "building tree 21 of 50\n",
            "building tree 22 of 50\n",
            "building tree 23 of 50\n",
            "building tree 24 of 50\n",
            "building tree 25 of 50\n",
            "building tree 26 of 50\n",
            "building tree 27 of 50\n",
            "building tree 28 of 50\n",
            "building tree 29 of 50\n",
            "building tree 30 of 50\n",
            "building tree 31 of 50\n",
            "building tree 32 of 50\n",
            "building tree 33 of 50\n",
            "building tree 34 of 50\n",
            "building tree 35 of 50\n",
            "building tree 36 of 50\n",
            "building tree 37 of 50\n",
            "building tree 38 of 50\n"
          ],
          "name": "stdout"
        },
        {
          "output_type": "stream",
          "text": [
            "[Parallel(n_jobs=-1)]: Done  37 tasks      | elapsed:  1.9min\n"
          ],
          "name": "stderr"
        },
        {
          "output_type": "stream",
          "text": [
            "building tree 39 of 50\n",
            "building tree 40 of 50\n",
            "building tree 41 of 50\n",
            "building tree 42 of 50\n",
            "building tree 43 of 50\n",
            "building tree 44 of 50\n",
            "building tree 45 of 50\n",
            "building tree 46 of 50\n",
            "building tree 47 of 50\n",
            "building tree 48 of 50\n",
            "building tree 49 of 50\n",
            "building tree 50 of 50\n"
          ],
          "name": "stdout"
        },
        {
          "output_type": "stream",
          "text": [
            "[Parallel(n_jobs=-1)]: Done  50 out of  50 | elapsed:  2.5min finished\n",
            "[Parallel(n_jobs=2)]: Using backend ThreadingBackend with 2 concurrent workers.\n",
            "[Parallel(n_jobs=2)]: Done  37 tasks      | elapsed:    2.1s\n",
            "[Parallel(n_jobs=2)]: Done  50 out of  50 | elapsed:    2.8s finished\n"
          ],
          "name": "stderr"
        }
      ]
    },
    {
      "cell_type": "code",
      "metadata": {
        "id": "o_8BazckSrGq",
        "colab_type": "code",
        "outputId": "24a4ce9f-4da0-4004-b7e4-2c1abba10c95",
        "colab": {
          "base_uri": "https://localhost:8080/",
          "height": 269
        }
      },
      "source": [
        "for measure in resultsRF:\n",
        "    print(measure,\": \\n\",resultsRF[measure])"
      ],
      "execution_count": 0,
      "outputs": [
        {
          "output_type": "stream",
          "text": [
            "Matrix de Confusao : \n",
            " [[1104849       2]\n",
            " [     16    3297]]\n",
            "Reporte Estatistico : \n",
            "               precision    recall  f1-score   support\n",
            "\n",
            "           0       1.00      1.00      1.00   1104851\n",
            "           1       1.00      1.00      1.00      3313\n",
            "\n",
            "    accuracy                           1.00   1108164\n",
            "   macro avg       1.00      1.00      1.00   1108164\n",
            "weighted avg       1.00      1.00      1.00   1108164\n",
            "\n",
            "Curva Roc : \n",
            " 0.9975843650484817\n"
          ],
          "name": "stdout"
        }
      ]
    },
    {
      "cell_type": "code",
      "metadata": {
        "id": "HVlcfoY4lI8J",
        "colab_type": "code",
        "colab": {}
      },
      "source": [
        "tp = 1104849\n",
        "fp = 2\n",
        "fn = 16\n",
        "tn = 3297\n",
        "\n",
        "acuracia =(tp+tn)/(tp+fp+fn+tn)\n",
        "acuracia_classe_0 = (tp)/(tp+fp)\n",
        "acuracia_classe_1 = (tn)/(fn+tn)\n",
        "precisao = tp/(tp+fp)\n",
        "revocacao = tp/(tp+fn)\n",
        "especificidade = tn/(tn+fp)\n",
        "Fscore = 2*((precisao * revocacao)/(precisao + revocacao))\n",
        "\n"
      ],
      "execution_count": 0,
      "outputs": []
    },
    {
      "cell_type": "code",
      "metadata": {
        "id": "GdsiP2ZHmLcK",
        "colab_type": "code",
        "outputId": "4869db55-1f3d-42ea-dfb4-88efff65a6ac",
        "colab": {
          "base_uri": "https://localhost:8080/",
          "height": 34
        }
      },
      "source": [
        "Fscore"
      ],
      "execution_count": 0,
      "outputs": [
        {
          "output_type": "execute_result",
          "data": {
            "text/plain": [
              "0.9999918541568238"
            ]
          },
          "metadata": {
            "tags": []
          },
          "execution_count": 140
        }
      ]
    },
    {
      "cell_type": "code",
      "metadata": {
        "id": "Y56LqPFFY26Q",
        "colab_type": "code",
        "outputId": "bd892e27-a0bc-4944-e1dd-6fce0d768cf5",
        "colab": {
          "base_uri": "https://localhost:8080/",
          "height": 218
        }
      },
      "source": [
        "nomes = dados2.columns\n",
        "nomes = nomes.drop(\"Fraude\",1)\n",
        "\n",
        "impedancias = pd.Series(RF.feature_importances_,index=nomes).sort_values(ascending=False)\n",
        "impedancias"
      ],
      "execution_count": 0,
      "outputs": [
        {
          "output_type": "execute_result",
          "data": {
            "text/plain": [
              "ErroSaldoOrigem      0.451685\n",
              "SaldoOrigemVelho     0.198242\n",
              "SaldoOrigemNovo      0.108844\n",
              "SaldoDestinoNovo     0.077877\n",
              "SaldoDestinoVelho    0.043093\n",
              "ErroSaldoDestino     0.031257\n",
              "HoraDoDia            0.028083\n",
              "Valor                0.022376\n",
              "Passo                0.021046\n",
              "Tipo_TRANSFER        0.011552\n",
              "Tipo_CASH_OUT        0.005947\n",
              "dtype: float64"
            ]
          },
          "metadata": {
            "tags": []
          },
          "execution_count": 121
        }
      ]
    },
    {
      "cell_type": "code",
      "metadata": {
        "id": "xcPWGr8javsz",
        "colab_type": "code",
        "outputId": "062a0d0a-3408-4f4c-e053-acae1f57baa7",
        "colab": {
          "base_uri": "https://localhost:8080/",
          "height": 301
        }
      },
      "source": [
        "plt.grid(True)\n",
        "pal =sns.cubehelix_palette(14, start=2, rot=0, dark=0, light=.95, reverse=True)\n",
        "ax =sns.barplot(x=impedancias,y=impedancias.index, palette=pal)\n",
        "plt.xlabel('Peso das Features no Modelo')\n",
        "plt.ylabel('Features')\n",
        "plt.title(\"Visualizando os Pesos das Features\")\n",
        "\n",
        "for i,v in enumerate(impedancias):\n",
        "  plt.text(v, i, str(round(v, 3)), color='steelblue', va=\"center\")\n",
        "\n",
        "plt.show()"
      ],
      "execution_count": 0,
      "outputs": [
        {
          "output_type": "display_data",
          "data": {
            "image/png": "[encoded data removed]",
            "text/plain": [
              "<Figure size 432x288 with 1 Axes>"
            ]
          },
          "metadata": {
            "tags": []
          }
        }
      ]
    },
    {
      "cell_type": "code",
      "metadata": {
        "id": "WfK0mWvvjrEM",
        "colab_type": "code",
        "outputId": "8368c557-8326-4507-f6f9-7e7261521743",
        "colab": {
          "base_uri": "https://localhost:8080/",
          "height": 318
        }
      },
      "source": [
        "\n",
        "plt.subplot(1, 1, 1)\n",
        "plt.plot(fprRF, recallRF, color='green', label='ROC curve (area = %0.3f)' % AUC_RF)\n",
        "plt.plot([0, 1], [0, 1], color='navy', linestyle='--')\n",
        "plt.xlim([-0.01, 1.0])\n",
        "plt.ylim([-0.01, 1.0])\n",
        "plt.xlabel('Falso Positivos')\n",
        "plt.ylabel('Verdadeiros Positivos')\n",
        "plt.title('ROC (Random Forest)')\n",
        "plt.legend(loc=\"lower right\")\n"
      ],
      "execution_count": 0,
      "outputs": [
        {
          "output_type": "execute_result",
          "data": {
            "text/plain": [
              "<matplotlib.legend.Legend at 0x7f7d9eec6198>"
            ]
          },
          "metadata": {
            "tags": []
          },
          "execution_count": 141
        },
        {
          "output_type": "display_data",
          "data": {
            "image/png": "[encoded data removed]",
            "text/plain": [
              "<Figure size 432x288 with 1 Axes>"
            ]
          },
          "metadata": {
            "tags": []
          }
        }
      ]
    }
  ]
}