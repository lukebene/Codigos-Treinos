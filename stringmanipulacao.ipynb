{
  "nbformat": 4,
  "nbformat_minor": 0,
  "metadata": {
    "colab": {
      "name": "stringmanipulacao.ipynb",
      "provenance": [],
      "authorship_tag": "ABX9TyMrykRTwVB+w0j2mMPePEz8",
      "include_colab_link": true
    },
    "kernelspec": {
      "name": "python3",
      "display_name": "Python 3"
    }
  },
  "cells": [
    {
      "cell_type": "markdown",
      "metadata": {
        "id": "view-in-github",
        "colab_type": "text"
      },
      "source": [
        "<a href=\"https://colab.research.google.com/github/lukebene/Codigos-Treinos/blob/master/stringmanipulacao.ipynb\" target=\"_parent\"><img src=\"https://colab.research.google.com/assets/colab-badge.svg\" alt=\"Open In Colab\"/></a>"
      ]
    },
    {
      "cell_type": "code",
      "metadata": {
        "id": "a9xqKUyFa8fv",
        "colab_type": "code",
        "colab": {
          "base_uri": "https://localhost:8080/",
          "height": 34
        },
        "outputId": "7d6d2b63-d2c7-4b10-a9cc-ccbfe179315c"
      },
      "source": [
        "url = \"https://www.bytebank.com/cambio?moedaorigem=real&moedadestino=dolar&valor=1500\"\n",
        "\n",
        "ExtratorArgumentoUrl.urlValida(url)"
      ],
      "execution_count": 3,
      "outputs": [
        {
          "output_type": "execute_result",
          "data": {
            "text/plain": [
              "True"
            ]
          },
          "metadata": {
            "tags": []
          },
          "execution_count": 3
        }
      ]
    },
    {
      "cell_type": "code",
      "metadata": {
        "id": "FrfDzyQNJysb",
        "colab_type": "code",
        "colab": {}
      },
      "source": [
        "class ExtratorArgumentoUrl:\n",
        "  def __init__(self,url):\n",
        "    if self.urlValida(url):\n",
        "      self.url = url\n",
        "    else:\n",
        "      raise LookupError(\"Url invalida !!!\")\n",
        "  \n",
        "  @staticmethod\n",
        "  def urlValida(url):\n",
        "    if url:\n",
        "      return True\n",
        "    else :\n",
        "      return False\n",
        "  \n",
        "  def retornaMoedas(self):\n",
        "        buscaMoedaOrigem = \"moedaorigem\"\n",
        "        buscaMoedaDestino = \"moedadestino\"\n",
        "\n",
        "        inicioSubstringMoedaOrigem = self.encontraIndiceInicioSubstring(buscaMoedaOrigem)\n",
        "        finalSubstringMoedaOrigem = self.url.find(\"&\")\n",
        "        moedaOrigem = self.url[inicioSubstringMoedaOrigem:finalSubstringMoedaOrigem]\n",
        "\n",
        "        inicioSubstringMoedaDestino = self.encontraIndiceInicioSubstring(buscaMoedaDestino)\n",
        "        finalSubstringMoedaDestino = self.url.find(\"&valor\")\n",
        "        moedaDestino = self.url[inicioSubstringMoedaDestino:finalSubstringMoedaDestino]\n",
        "\n",
        "        return moedaOrigem, moedaDestino\n",
        "\n",
        "  def encontraIndiceInicioSubstring(self, moedaOuValor):\n",
        "        return self.url.find(moedaOuValor) + len(moedaOuValor) + 1"
      ],
      "execution_count": 0,
      "outputs": []
    }
  ]
}